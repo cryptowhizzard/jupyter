{
 "cells": [
  {
   "cell_type": "code",
   "execution_count": 1,
   "metadata": {},
   "outputs": [],
   "source": [
    "import numpy as np\n",
    "import pandas as pd\n",
    "import matplotlib.pyplot as plt\n",
    "import seaborn as sns\n",
    "sns.reset_defaults()\n",
    "\n",
    "%matplotlib inline"
   ]
  },
  {
   "cell_type": "markdown",
   "metadata": {},
   "source": [
    "## support functions"
   ]
  },
  {
   "cell_type": "code",
   "execution_count": 2,
   "metadata": {},
   "outputs": [],
   "source": [
    "TOKEN_NUM_BYTES = 32"
   ]
  },
  {
   "cell_type": "code",
   "execution_count": 3,
   "metadata": {},
   "outputs": [],
   "source": [
    "def rand_string(n_str=8) -> str:\n",
    "    alphabet = string.ascii_letters + string.digits\n",
    "    return \"\".join(secrets.choice(alphabet) for _ in range(n_str))\n",
    "\n",
    "\n",
    "def rand_bytes(n_bytes=TOKEN_NUM_BYTES) -> bytes:\n",
    "    if n_bytes <= 0:\n",
    "        raise ValueError(\"0 and negative argument not allowed\")\n",
    "    return secrets.token_bytes(n_bytes)"
   ]
  },
  {
   "cell_type": "code",
   "execution_count": 4,
   "metadata": {},
   "outputs": [],
   "source": [
    "\n",
    "def bytes_to_int(bytes_hex: bytes, byteorder=\"big\"):\n",
    "    return int.from_bytes(bytes_hex, byteorder=byteorder)\n",
    "\n",
    "\n",
    "def int_to_bytes(i: int, n_bytes=TOKEN_NUM_BYTES, byteorder=\"big\") -> bytes:\n",
    "    if n_bytes is None:\n",
    "        n_bytes = (i.bit_length() + 7) // 8 or 1\n",
    "    return i.to_bytes(length=n_bytes, byteorder=byteorder)\n",
    "\n",
    "\n",
    "def hex_str_to_int(str_hex: str, byteorder: str=\"big\") -> int:\n",
    "    return bytes_to_int(hex_str_to_bytes(str_hex), byteorder=byteorder)\n",
    "\n",
    "\n",
    "def int_to_hex_str(i: int, n_bytes=TOKEN_NUM_BYTES, prefix=\"\", byteorder=\"big\") -> str:\n",
    "    return bytes_to_hex_str(int_to_bytes(i, n_bytes, byteorder), prefix=prefix)\n",
    "\n",
    "\n",
    "def hex_str_to_bytes(str_hex: str) -> bytes:\n",
    "    if isinstance(str_hex, bytes):\n",
    "        return str_hex\n",
    "    str_hex = str_hex.lower()\n",
    "    if str_hex.startswith(\"0x\"):\n",
    "        str_hex = str_hex[2:]\n",
    "    if len(str_hex) & 1:\n",
    "        str_hex = \"0\" + str_hex\n",
    "    return bytes.fromhex(str_hex)\n",
    "\n",
    "\n",
    "def bytes_to_hex_str(bytes_hex: bytes, prefix=\"\") -> str:\n",
    "    return prefix + bytes_hex.hex()\n",
    "\n",
    "\n"
   ]
  },
  {
   "cell_type": "markdown",
   "metadata": {},
   "source": [
    "# Difficulty functions"
   ]
  },
  {
   "cell_type": "code",
   "execution_count": 5,
   "metadata": {},
   "outputs": [],
   "source": [
    "ZERO_MASK = [0xFF, 0x7F, 0x3F, 0x1F, 0x0F, 0x07, 0x03, 0x01]\n",
    "\n",
    "\n",
    "def difficulty_to_boundary(difficulty: int) -> bytes:\n",
    "    boundary = bytearray(b\"\\xFF\" * 32)\n",
    "    n_bytes_to_zero = difficulty // 8\n",
    "    n_bits_to_zero = difficulty % 8\n",
    "\n",
    "    boundary[0:n_bytes_to_zero] = b\"\\x00\" * n_bytes_to_zero\n",
    "    boundary[n_bytes_to_zero] = ZERO_MASK[n_bits_to_zero]\n",
    "\n",
    "    return bytes(boundary)\n",
    "\n",
    "\n",
    "def boundary_to_difficulty(boundary) -> int:\n",
    "    if isinstance(boundary, str):\n",
    "        boundary = hex_str_to_bytes(boundary)\n",
    "\n",
    "    difficulty = 0\n",
    "    for b in memoryview(boundary):\n",
    "        if b == 0:\n",
    "            difficulty += 8\n",
    "        else:\n",
    "            difficulty += (8 - b.bit_length())\n",
    "            break\n",
    "    return difficulty\n",
    "\n",
    "\n",
    "assert boundary_to_difficulty(difficulty_to_boundary(55)) == 55\n",
    "assert boundary_to_difficulty(difficulty_to_boundary(55)) != 56"
   ]
  },
  {
   "cell_type": "code",
   "execution_count": 6,
   "metadata": {},
   "outputs": [],
   "source": [
    "dividend = 0xffff000000000000000000000000000000000000000000000000000000000000\n",
    "\n",
    "\n",
    "def boundary_to_hashpower(boundary) -> int:\n",
    "    if isinstance(boundary, str):\n",
    "        return dividend // hex_str_to_int(boundary)\n",
    "    elif isinstance(boundary, bytes):\n",
    "        return dividend // bytes_to_int(boundary)\n",
    "    raise TypeError(\"Type of boundary should be str or bytes\")\n",
    "\n",
    "\n",
    "def difficulty_to_hashpower(difficulty: int) -> int:\n",
    "    return boundary_to_hashpower(difficulty_to_boundary(difficulty))"
   ]
  },
  {
   "cell_type": "code",
   "execution_count": 7,
   "metadata": {},
   "outputs": [],
   "source": [
    "import math\n",
    "def convert_hashrate(hashrate, k=1000):\n",
    "    if hashrate <= 0:\n",
    "        return \"0 Mh\"\n",
    "    \n",
    "    rates = ['h', 'Kh', 'Mh', 'Gh', 'Th', 'Ph', 'Eh', 'Zh', 'Yh']\n",
    "    i = math.floor(math.log(hashrate) / math.log(k));\n",
    "    \n",
    "    return f\"{hashrate / pow(k, i):.2f} {rates[i]}\""
   ]
  },
  {
   "cell_type": "markdown",
   "metadata": {},
   "source": [
    "## Plot current difficulty vs HashRate"
   ]
  },
  {
   "cell_type": "code",
   "execution_count": 8,
   "metadata": {},
   "outputs": [],
   "source": [
    "POW_WINDOW = 150"
   ]
  },
  {
   "cell_type": "code",
   "execution_count": null,
   "metadata": {},
   "outputs": [],
   "source": []
  },
  {
   "cell_type": "code",
   "execution_count": 9,
   "metadata": {
    "scrolled": false
   },
   "outputs": [
    {
     "name": "stdout",
     "output_type": "stream",
     "text": [
      "030 --  1.07 Gh          --  7.16 Mh\n",
      "031 --  2.15 Gh          --  14.32 Mh\n",
      "032 --  4.29 Gh          --  28.63 Mh\n",
      "033 --  8.59 Gh          --  57.27 Mh\n",
      "034 --  17.18 Gh         --  114.53 Mh\n",
      "035 --  34.36 Gh         --  229.06 Mh\n",
      "036 --  68.72 Gh         --  458.12 Mh\n",
      "037 --  137.44 Gh        --  916.25 Mh\n",
      "038 --  274.87 Gh        --  1.83 Gh\n",
      "039 --  549.75 Gh        --  3.66 Gh\n",
      "040 --  1.10 Th          --  7.33 Gh\n",
      "041 --  2.20 Th          --  14.66 Gh\n",
      "042 --  4.40 Th          --  29.32 Gh\n",
      "043 --  8.80 Th          --  58.64 Gh\n",
      "044 --  17.59 Th         --  117.28 Gh\n",
      "045 --  35.18 Th         --  234.56 Gh\n",
      "046 --  70.37 Th         --  469.12 Gh\n",
      "047 --  140.74 Th        --  938.24 Gh\n",
      "048 --  281.47 Th        --  1.88 Th\n",
      "049 --  562.94 Th        --  3.75 Th\n",
      "050 --  1.13 Ph          --  7.51 Th\n",
      "051 --  2.25 Ph          --  15.01 Th\n",
      "052 --  4.50 Ph          --  30.02 Th\n",
      "053 --  9.01 Ph          --  60.05 Th\n",
      "054 --  18.01 Ph         --  120.09 Th\n",
      "055 --  36.03 Ph         --  240.19 Th\n",
      "056 --  72.06 Ph         --  480.38 Th\n",
      "057 --  144.11 Ph        --  960.75 Th\n",
      "058 --  288.23 Ph        --  1.92 Ph\n",
      "059 --  576.45 Ph        --  3.84 Ph\n",
      "060 --  1.15 Eh          --  7.69 Ph\n",
      "061 --  2.31 Eh          --  15.37 Ph\n",
      "062 --  4.61 Eh          --  30.74 Ph\n",
      "063 --  9.22 Eh          --  61.49 Ph\n",
      "064 --  18.45 Eh         --  122.98 Ph\n",
      "065 --  36.89 Eh         --  245.95 Ph\n",
      "066 --  73.79 Eh         --  491.91 Ph\n",
      "067 --  147.57 Eh        --  983.81 Ph\n",
      "068 --  295.14 Eh        --  1.97 Eh\n",
      "069 --  590.29 Eh        --  3.94 Eh\n",
      "070 --  1.18 Zh          --  7.87 Eh\n",
      "071 --  2.36 Zh          --  15.74 Eh\n",
      "072 --  4.72 Zh          --  31.48 Eh\n",
      "073 --  9.44 Zh          --  62.96 Eh\n",
      "074 --  18.89 Zh         --  125.93 Eh\n",
      "075 --  37.78 Zh         --  251.86 Eh\n",
      "076 --  75.56 Zh         --  503.71 Eh\n",
      "077 --  151.11 Zh        --  1.01 Zh\n",
      "078 --  302.23 Zh        --  2.01 Zh\n",
      "079 --  604.45 Zh        --  4.03 Zh\n"
     ]
    },
    {
     "data": {
      "image/png": "[encoded data removed]",
      "text/plain": [
       "<Figure size 1152x720 with 1 Axes>"
      ]
     },
     "metadata": {
      "needs_background": "light"
     },
     "output_type": "display_data"
    }
   ],
   "source": [
    "diff_list = list(range(30, 80))\n",
    "hash_list = [difficulty_to_hashpower(d) for d in diff_list]\n",
    "plt.figure(figsize=(16, 10))\n",
    "plt.yscale(\"log\")\n",
    "plt.plot(diff_list, hash_list);\n",
    "\n",
    "for diff, hashpower in zip(diff_list, hash_list):\n",
    "    print(f\"{diff:03} -- \", f\"{convert_hashrate(hashpower):15s}\", \" -- \", convert_hashrate(hashpower // POW_WINDOW))"
   ]
  },
  {
   "cell_type": "code",
   "execution_count": null,
   "metadata": {},
   "outputs": [],
   "source": []
  },
  {
   "cell_type": "markdown",
   "metadata": {},
   "source": [
    "## New propose"
   ]
  },
  {
   "cell_type": "markdown",
   "metadata": {},
   "source": [
    "hashrate *1.25 for next level instead of *2"
   ]
  },
  {
   "cell_type": "code",
   "execution_count": 97,
   "metadata": {},
   "outputs": [],
   "source": [
    "N_DIVIDED = 4"
   ]
  },
  {
   "cell_type": "code",
   "execution_count": 101,
   "metadata": {},
   "outputs": [],
   "source": [
    "ZERO_MASK = [0xFF, 0x7F, 0x3F, 0x1F, 0x0F, 0x07, 0x03, 0x01]\n",
    "\n",
    "\n",
    "def calc_zero_bytes(difficulty_level):\n",
    "    boundary = bytearray(b\"\\xFF\" * 32)\n",
    "    \n",
    "    n_bytes_to_zero = difficulty_level // 8\n",
    "    n_bits_to_zero = difficulty_level % 8\n",
    "    \n",
    "    boundary[0:n_bytes_to_zero] = b\"\\x00\" * n_bytes_to_zero\n",
    "    boundary[n_bytes_to_zero] = ZERO_MASK[n_bits_to_zero]\n",
    "    \n",
    "    return bytes(boundary)\n",
    "    \n",
    "\n",
    "def new_difficulty_to_boundary(difficulty: int) -> bytes:    \n",
    "    if difficulty < 32:\n",
    "        difficulty_level =  difficulty\n",
    "        return calc_zero_bytes(difficulty_level)\n",
    "    else:\n",
    "        n = (difficulty - 32) // N_DIVIDED\n",
    "        m = (difficulty - 32) % N_DIVIDED\n",
    "        difficulty_level = 32 + n\n",
    "            \n",
    "    int_boundary = bytes_to_int(calc_zero_bytes(difficulty_level))\n",
    "    boundary_change_step = (int_boundary >> 1) // N_DIVIDED\n",
    "    \n",
    "    boundary = int_boundary - boundary_change_step * m\n",
    "    \n",
    "    return int_to_bytes(boundary, n_bytes=32)\n",
    "\n",
    "\n",
    "def new_boundary_to_difficulty(boundary) -> int:\n",
    "    if isinstance(boundary, str):\n",
    "        boundary = hex_str_to_bytes(boundary)\n",
    "\n",
    "    difficulty_level = 0\n",
    "    for b in memoryview(boundary):\n",
    "        if b == 0:\n",
    "            difficulty_level += 8\n",
    "        else:\n",
    "            difficulty_level += (8 - b.bit_length())\n",
    "            break\n",
    "            \n",
    "    if difficulty_level < 32:\n",
    "        return difficulty_level\n",
    "    \n",
    "    int_boundary = bytes_to_int(boundary)\n",
    "    \n",
    "    int_boundary_cur_level = bytes_to_int((calc_zero_bytes(difficulty_level)))\n",
    "    boundary_change_step = (int_boundary_cur_level >> 1) // N_DIVIDED\n",
    "    \n",
    "    m = (int_boundary_cur_level - int_boundary ) // boundary_change_step\n",
    "    \n",
    "    n = (difficulty_level - 32)\n",
    "    new_difficulty = 32 + n * N_DIVIDED    \n",
    "    \n",
    "    return new_difficulty + m\n",
    "\n",
    "\n",
    "for d in range(1, 256):\n",
    "    assert new_boundary_to_difficulty(new_difficulty_to_boundary(d)) == d\n"
   ]
  },
  {
   "cell_type": "code",
   "execution_count": 102,
   "metadata": {},
   "outputs": [],
   "source": [
    "def new_difficulty_to_hashpower(difficulty: int) -> int:\n",
    "    return boundary_to_hashpower(new_difficulty_to_boundary(difficulty))"
   ]
  },
  {
   "cell_type": "markdown",
   "metadata": {},
   "source": [
    "## Plot new difficulty vs HashRate"
   ]
  },
  {
   "cell_type": "code",
   "execution_count": 103,
   "metadata": {},
   "outputs": [],
   "source": [
    "def plot_new_diff(diff_list, n_divided=4):\n",
    "    global N_DIVIDED\n",
    "    N_DIVIDED = n_divided\n",
    "    new_hash_list = [new_difficulty_to_hashpower(d) for d in diff_list]\n",
    "    plt.scatter(diff_list, new_hash_list, label=f\"Divided 1/{n_divided}\")\n",
    "    plt.legend()\n",
    "    return new_hash_list\n",
    "    "
   ]
  },
  {
   "cell_type": "code",
   "execution_count": 104,
   "metadata": {},
   "outputs": [
    {
     "name": "stdout",
     "output_type": "stream",
     "text": [
      "030 --  1.07 Gh        \n",
      "031 --  2.15 Gh        \n",
      "032 --  4.29 Gh        \n",
      "033 --  4.91 Gh        \n",
      "034 --  5.73 Gh        \n",
      "035 --  6.87 Gh        \n",
      "036 --  8.59 Gh        \n",
      "037 --  9.82 Gh        \n",
      "038 --  11.45 Gh       \n",
      "039 --  13.74 Gh       \n",
      "040 --  17.18 Gh       \n",
      "041 --  19.63 Gh       \n",
      "042 --  22.91 Gh       \n",
      "043 --  27.49 Gh       \n",
      "044 --  34.36 Gh       \n",
      "045 --  39.27 Gh       \n",
      "046 --  45.81 Gh       \n",
      "047 --  54.97 Gh       \n",
      "048 --  68.72 Gh       \n",
      "049 --  78.54 Gh       \n",
      "050 --  91.62 Gh       \n",
      "051 --  109.95 Gh      \n",
      "052 --  137.44 Gh      \n",
      "053 --  157.07 Gh      \n",
      "054 --  183.25 Gh      \n",
      "055 --  219.90 Gh      \n",
      "056 --  274.87 Gh      \n",
      "057 --  314.14 Gh      \n",
      "058 --  366.50 Gh      \n",
      "059 --  439.80 Gh      \n",
      "060 --  549.75 Gh      \n",
      "061 --  628.28 Gh      \n",
      "062 --  733.00 Gh      \n",
      "063 --  879.60 Gh      \n"
     ]
    },
    {
     "data": {
      "image/png": "[encoded data removed]",
      "text/plain": [
       "<Figure size 1152x720 with 1 Axes>"
      ]
     },
     "metadata": {
      "needs_background": "light"
     },
     "output_type": "display_data"
    }
   ],
   "source": [
    "plt.figure(figsize=(16, 10))\n",
    "plt.yscale(\"log\")\n",
    "\n",
    "diff_list = range(30, 64)\n",
    "new_hash_list = plot_new_diff(diff_list, n_divided=4)\n",
    "\n",
    "for diff, new_hashpower in zip(diff_list, new_hash_list):\n",
    "    print(f\"{diff:03} -- \", f\"{convert_hashrate(new_hashpower):15s}\")"
   ]
  },
  {
   "cell_type": "code",
   "execution_count": 105,
   "metadata": {
    "scrolled": false
   },
   "outputs": [
    {
     "name": "stdout",
     "output_type": "stream",
     "text": [
      "030 --  1.07 Gh        \n",
      "031 --  2.15 Gh        \n",
      "032 --  4.29 Gh        \n",
      "033 --  4.91 Gh        \n",
      "034 --  5.73 Gh        \n",
      "035 --  6.87 Gh        \n",
      "036 --  8.59 Gh        \n",
      "037 --  9.82 Gh        \n",
      "038 --  11.45 Gh       \n",
      "039 --  13.74 Gh       \n",
      "040 --  17.18 Gh       \n",
      "041 --  19.63 Gh       \n",
      "042 --  22.91 Gh       \n",
      "043 --  27.49 Gh       \n",
      "044 --  34.36 Gh       \n",
      "045 --  39.27 Gh       \n",
      "046 --  45.81 Gh       \n",
      "047 --  54.97 Gh       \n",
      "048 --  68.72 Gh       \n",
      "049 --  78.54 Gh       \n",
      "050 --  91.62 Gh       \n",
      "051 --  109.95 Gh      \n",
      "052 --  137.44 Gh      \n",
      "053 --  157.07 Gh      \n",
      "054 --  183.25 Gh      \n",
      "055 --  219.90 Gh      \n",
      "056 --  274.87 Gh      \n",
      "057 --  314.14 Gh      \n",
      "058 --  366.50 Gh      \n",
      "059 --  439.80 Gh      \n",
      "060 --  549.75 Gh      \n",
      "061 --  628.28 Gh      \n",
      "062 --  733.00 Gh      \n",
      "063 --  879.60 Gh      \n",
      "064 --  1.10 Th        \n",
      "065 --  1.26 Th        \n",
      "066 --  1.47 Th        \n",
      "067 --  1.76 Th        \n",
      "068 --  2.20 Th        \n",
      "069 --  2.51 Th        \n",
      "070 --  2.93 Th        \n",
      "071 --  3.52 Th        \n",
      "072 --  4.40 Th        \n",
      "073 --  5.03 Th        \n",
      "074 --  5.86 Th        \n",
      "075 --  7.04 Th        \n",
      "076 --  8.80 Th        \n",
      "077 --  10.05 Th       \n",
      "078 --  11.73 Th       \n",
      "079 --  14.07 Th       \n",
      "080 --  17.59 Th       \n",
      "081 --  20.11 Th       \n",
      "082 --  23.46 Th       \n",
      "083 --  28.15 Th       \n",
      "084 --  35.18 Th       \n",
      "085 --  40.21 Th       \n",
      "086 --  46.91 Th       \n",
      "087 --  56.29 Th       \n",
      "088 --  70.37 Th       \n",
      "089 --  80.42 Th       \n",
      "090 --  93.82 Th       \n",
      "091 --  112.59 Th      \n",
      "092 --  140.74 Th      \n",
      "093 --  160.84 Th      \n",
      "094 --  187.65 Th      \n",
      "095 --  225.18 Th      \n",
      "096 --  281.47 Th      \n",
      "097 --  321.68 Th      \n",
      "098 --  375.29 Th      \n",
      "099 --  450.35 Th      \n",
      "100 --  562.94 Th      \n",
      "101 --  643.36 Th      \n",
      "102 --  750.59 Th      \n",
      "103 --  900.71 Th      \n",
      "104 --  1.13 Ph        \n",
      "105 --  1.29 Ph        \n",
      "106 --  1.50 Ph        \n",
      "107 --  1.80 Ph        \n",
      "108 --  2.25 Ph        \n",
      "109 --  2.57 Ph        \n",
      "110 --  3.00 Ph        \n",
      "111 --  3.60 Ph        \n",
      "112 --  4.50 Ph        \n",
      "113 --  5.15 Ph        \n",
      "114 --  6.00 Ph        \n",
      "115 --  7.21 Ph        \n",
      "116 --  9.01 Ph        \n",
      "117 --  10.29 Ph       \n",
      "118 --  12.01 Ph       \n",
      "119 --  14.41 Ph       \n",
      "120 --  18.01 Ph       \n",
      "121 --  20.59 Ph       \n",
      "122 --  24.02 Ph       \n",
      "123 --  28.82 Ph       \n",
      "124 --  36.03 Ph       \n",
      "125 --  41.18 Ph       \n",
      "126 --  48.04 Ph       \n",
      "127 --  57.65 Ph       \n",
      "128 --  72.06 Ph       \n",
      "129 --  82.35 Ph       \n",
      "130 --  96.08 Ph       \n",
      "131 --  115.29 Ph      \n",
      "132 --  144.11 Ph      \n",
      "133 --  164.70 Ph      \n",
      "134 --  192.15 Ph      \n",
      "135 --  230.58 Ph      \n",
      "136 --  288.23 Ph      \n",
      "137 --  329.40 Ph      \n",
      "138 --  384.30 Ph      \n",
      "139 --  461.16 Ph      \n",
      "140 --  576.45 Ph      \n",
      "141 --  658.80 Ph      \n",
      "142 --  768.60 Ph      \n",
      "143 --  922.32 Ph      \n",
      "144 --  1.15 Eh        \n",
      "145 --  1.32 Eh        \n",
      "146 --  1.54 Eh        \n",
      "147 --  1.84 Eh        \n",
      "148 --  2.31 Eh        \n",
      "149 --  2.64 Eh        \n",
      "150 --  3.07 Eh        \n",
      "151 --  3.69 Eh        \n",
      "152 --  4.61 Eh        \n",
      "153 --  5.27 Eh        \n",
      "154 --  6.15 Eh        \n",
      "155 --  7.38 Eh        \n",
      "156 --  9.22 Eh        \n",
      "157 --  10.54 Eh       \n",
      "158 --  12.30 Eh       \n",
      "159 --  14.76 Eh       \n",
      "160 --  18.45 Eh       \n",
      "161 --  21.08 Eh       \n",
      "162 --  24.60 Eh       \n",
      "163 --  29.51 Eh       \n",
      "164 --  36.89 Eh       \n",
      "165 --  42.16 Eh       \n",
      "166 --  49.19 Eh       \n",
      "167 --  59.03 Eh       \n",
      "168 --  73.79 Eh       \n",
      "169 --  84.33 Eh       \n",
      "170 --  98.38 Eh       \n",
      "171 --  118.06 Eh      \n",
      "172 --  147.57 Eh      \n",
      "173 --  168.65 Eh      \n",
      "174 --  196.76 Eh      \n",
      "175 --  236.11 Eh      \n",
      "176 --  295.14 Eh      \n",
      "177 --  337.31 Eh      \n",
      "178 --  393.52 Eh      \n",
      "179 --  472.23 Eh      \n",
      "180 --  590.29 Eh      \n",
      "181 --  674.61 Eh      \n",
      "182 --  787.05 Eh      \n",
      "183 --  944.46 Eh      \n",
      "184 --  1.18 Zh        \n",
      "185 --  1.35 Zh        \n",
      "186 --  1.57 Zh        \n",
      "187 --  1.89 Zh        \n",
      "188 --  2.36 Zh        \n",
      "189 --  2.70 Zh        \n",
      "190 --  3.15 Zh        \n",
      "191 --  3.78 Zh        \n",
      "192 --  4.72 Zh        \n",
      "193 --  5.40 Zh        \n",
      "194 --  6.30 Zh        \n",
      "195 --  7.56 Zh        \n",
      "196 --  9.44 Zh        \n",
      "197 --  10.79 Zh       \n",
      "198 --  12.59 Zh       \n",
      "199 --  15.11 Zh       \n",
      "200 --  18.89 Zh       \n",
      "201 --  21.59 Zh       \n",
      "202 --  25.19 Zh       \n",
      "203 --  30.22 Zh       \n",
      "204 --  37.78 Zh       \n",
      "205 --  43.18 Zh       \n",
      "206 --  50.37 Zh       \n",
      "207 --  60.45 Zh       \n",
      "208 --  75.56 Zh       \n",
      "209 --  86.35 Zh       \n",
      "210 --  100.74 Zh      \n",
      "211 --  120.89 Zh      \n",
      "212 --  151.11 Zh      \n",
      "213 --  172.70 Zh      \n",
      "214 --  201.48 Zh      \n",
      "215 --  241.78 Zh      \n",
      "216 --  302.23 Zh      \n",
      "217 --  345.40 Zh      \n",
      "218 --  402.97 Zh      \n",
      "219 --  483.56 Zh      \n",
      "220 --  604.45 Zh      \n",
      "221 --  690.80 Zh      \n",
      "222 --  805.94 Zh      \n",
      "223 --  967.13 Zh      \n",
      "224 --  1.21 Yh        \n",
      "225 --  1.38 Yh        \n",
      "226 --  1.61 Yh        \n",
      "227 --  1.93 Yh        \n",
      "228 --  2.42 Yh        \n",
      "229 --  2.76 Yh        \n",
      "230 --  3.22 Yh        \n",
      "231 --  3.87 Yh        \n",
      "232 --  4.84 Yh        \n",
      "233 --  5.53 Yh        \n",
      "234 --  6.45 Yh        \n",
      "235 --  7.74 Yh        \n",
      "236 --  9.67 Yh        \n",
      "237 --  11.05 Yh       \n",
      "238 --  12.90 Yh       \n",
      "239 --  15.47 Yh       \n",
      "240 --  19.34 Yh       \n",
      "241 --  22.11 Yh       \n",
      "242 --  25.79 Yh       \n",
      "243 --  30.95 Yh       \n",
      "244 --  38.69 Yh       \n",
      "245 --  44.21 Yh       \n",
      "246 --  51.58 Yh       \n",
      "247 --  61.90 Yh       \n",
      "248 --  77.37 Yh       \n",
      "249 --  88.42 Yh       \n",
      "250 --  103.16 Yh      \n",
      "251 --  123.79 Yh      \n",
      "252 --  154.74 Yh      \n",
      "253 --  176.85 Yh      \n",
      "254 --  206.32 Yh      \n",
      "255 --  247.58 Yh      \n"
     ]
    },
    {
     "data": {
      "image/png": "[encoded data removed]",
      "text/plain": [
       "<Figure size 1152x720 with 1 Axes>"
      ]
     },
     "metadata": {
      "needs_background": "light"
     },
     "output_type": "display_data"
    }
   ],
   "source": [
    "plt.figure(figsize=(16, 10))\n",
    "plt.yscale(\"log\")\n",
    "\n",
    "diff_list = range(30, 256)\n",
    "new_hash_list = plot_new_diff(diff_list, n_divided=4)\n",
    "\n",
    "for diff, new_hashpower in zip(diff_list, new_hash_list):\n",
    "    print(f\"{diff:03} -- \", f\"{convert_hashrate(new_hashpower):15s}\")"
   ]
  },
  {
   "cell_type": "code",
   "execution_count": 106,
   "metadata": {
    "scrolled": false
   },
   "outputs": [
    {
     "name": "stdout",
     "output_type": "stream",
     "text": [
      "028 --  268.43 Mh        --  268.43 Mh      \n",
      "029 --  536.86 Mh        --  536.86 Mh      \n",
      "030 --  1.07 Gh          --  1.07 Gh        \n",
      "031 --  2.15 Gh          --  2.15 Gh        \n",
      "032 --  4.29 Gh          --  4.29 Gh        \n",
      "033 --  8.59 Gh          --  4.91 Gh        \n",
      "034 --  17.18 Gh         --  5.73 Gh        \n",
      "035 --  34.36 Gh         --  6.87 Gh        \n",
      "036 --  68.72 Gh         --  8.59 Gh        \n",
      "037 --  137.44 Gh        --  9.82 Gh        \n",
      "038 --  274.87 Gh        --  11.45 Gh       \n",
      "039 --  549.75 Gh        --  13.74 Gh       \n",
      "040 --  1.10 Th          --  17.18 Gh       \n",
      "041 --  2.20 Th          --  19.63 Gh       \n",
      "042 --  4.40 Th          --  22.91 Gh       \n",
      "043 --  8.80 Th          --  27.49 Gh       \n",
      "044 --  17.59 Th         --  34.36 Gh       \n",
      "045 --  35.18 Th         --  39.27 Gh       \n",
      "046 --  70.37 Th         --  45.81 Gh       \n",
      "047 --  140.74 Th        --  54.97 Gh       \n",
      "048 --  281.47 Th        --  68.72 Gh       \n",
      "049 --  562.94 Th        --  78.54 Gh       \n",
      "050 --  1.13 Ph          --  91.62 Gh       \n",
      "051 --  2.25 Ph          --  109.95 Gh      \n",
      "052 --  4.50 Ph          --  137.44 Gh      \n",
      "053 --  9.01 Ph          --  157.07 Gh      \n",
      "054 --  18.01 Ph         --  183.25 Gh      \n",
      "055 --  36.03 Ph         --  219.90 Gh      \n",
      "056 --  72.06 Ph         --  274.87 Gh      \n",
      "057 --  144.11 Ph        --  314.14 Gh      \n",
      "058 --  288.23 Ph        --  366.50 Gh      \n",
      "059 --  576.45 Ph        --  439.80 Gh      \n",
      "060 --  1.15 Eh          --  549.75 Gh      \n",
      "061 --  2.31 Eh          --  628.28 Gh      \n",
      "062 --  4.61 Eh          --  733.00 Gh      \n",
      "063 --  9.22 Eh          --  879.60 Gh      \n"
     ]
    },
    {
     "data": {
      "image/png": "[encoded data removed]",
      "text/plain": [
       "<Figure size 1152x720 with 1 Axes>"
      ]
     },
     "metadata": {
      "needs_background": "light"
     },
     "output_type": "display_data"
    }
   ],
   "source": [
    "diff_list = list(range(28, 64))\n",
    "\n",
    "plt.figure(figsize=(16, 10))\n",
    "plt.yscale(\"log\")\n",
    "\n",
    "hash_list = plot_new_diff(diff_list, n_divided=1)\n",
    "new_hash_list = plot_new_diff(diff_list, n_divided=4)\n",
    "\n",
    "for diff, hashpower, new_hashpower in zip(diff_list, hash_list, new_hash_list):\n",
    "    print(f\"{diff:03} -- \", f\"{convert_hashrate(hashpower):15s}\", \" -- \",  f\"{convert_hashrate(new_hashpower):15s}\")"
   ]
  },
  {
   "cell_type": "code",
   "execution_count": null,
   "metadata": {},
   "outputs": [],
   "source": []
  },
  {
   "cell_type": "code",
   "execution_count": null,
   "metadata": {},
   "outputs": [],
   "source": []
  },
  {
   "cell_type": "code",
   "execution_count": null,
   "metadata": {},
   "outputs": [],
   "source": []
  },
  {
   "cell_type": "markdown",
   "metadata": {},
   "source": [
    "## N_DIVIDED = 1, 2, 4, 6, 8"
   ]
  },
  {
   "cell_type": "code",
   "execution_count": 112,
   "metadata": {},
   "outputs": [
    {
     "name": "stdout",
     "output_type": "stream",
     "text": [
      "Level   Current              1/2                  1/4                  1/6                  1/8            \n",
      "028  --  268.43 Mh        --  268.43 Mh        --  268.43 Mh        --  268.43 Mh        --  268.43 Mh      \n",
      "029  --  536.86 Mh        --  536.86 Mh        --  536.86 Mh        --  536.86 Mh        --  536.86 Mh      \n",
      "030  --  1.07 Gh          --  1.07 Gh          --  1.07 Gh          --  1.07 Gh          --  1.07 Gh        \n",
      "031  --  2.15 Gh          --  2.15 Gh          --  2.15 Gh          --  2.15 Gh          --  2.15 Gh        \n",
      "032  --  4.29 Gh          --  4.29 Gh          --  4.29 Gh          --  4.29 Gh          --  4.29 Gh        \n",
      "033  --  8.59 Gh          --  5.73 Gh          --  4.91 Gh          --  4.69 Gh          --  4.58 Gh        \n",
      "034  --  17.18 Gh         --  8.59 Gh          --  5.73 Gh          --  5.15 Gh          --  4.91 Gh        \n",
      "035  --  34.36 Gh         --  11.45 Gh         --  6.87 Gh          --  5.73 Gh          --  5.29 Gh        \n",
      "036  --  68.72 Gh         --  17.18 Gh         --  8.59 Gh          --  6.44 Gh          --  5.73 Gh        \n",
      "037  --  137.44 Gh        --  22.91 Gh         --  9.82 Gh          --  7.36 Gh          --  6.25 Gh        \n",
      "038  --  274.87 Gh        --  34.36 Gh         --  11.45 Gh         --  8.59 Gh          --  6.87 Gh        \n",
      "039  --  549.75 Gh        --  45.81 Gh         --  13.74 Gh         --  9.37 Gh          --  7.64 Gh        \n",
      "040  --  1.10 Th          --  68.72 Gh         --  17.18 Gh         --  10.31 Gh         --  8.59 Gh        \n",
      "041  --  2.20 Th          --  91.62 Gh         --  19.63 Gh         --  11.45 Gh         --  9.16 Gh        \n",
      "042  --  4.40 Th          --  137.44 Gh        --  22.91 Gh         --  12.88 Gh         --  9.82 Gh        \n",
      "043  --  8.80 Th          --  183.25 Gh        --  27.49 Gh         --  14.73 Gh         --  10.57 Gh       \n",
      "044  --  17.59 Th         --  274.87 Gh        --  34.36 Gh         --  17.18 Gh         --  11.45 Gh       \n",
      "045  --  35.18 Th         --  366.50 Gh        --  39.27 Gh         --  18.74 Gh         --  12.49 Gh       \n",
      "046  --  70.37 Th         --  549.75 Gh        --  45.81 Gh         --  20.62 Gh         --  13.74 Gh       \n",
      "047  --  140.74 Th        --  733.00 Gh        --  54.97 Gh         --  22.91 Gh         --  15.27 Gh       \n",
      "048  --  281.47 Th        --  1.10 Th          --  68.72 Gh         --  25.77 Gh         --  17.18 Gh       \n",
      "049  --  562.94 Th        --  1.47 Th          --  78.54 Gh         --  29.45 Gh         --  18.32 Gh       \n",
      "050  --  1.13 Ph          --  2.20 Th          --  91.62 Gh         --  34.36 Gh         --  19.63 Gh       \n",
      "051  --  2.25 Ph          --  2.93 Th          --  109.95 Gh        --  37.48 Gh         --  21.14 Gh       \n",
      "052  --  4.50 Ph          --  4.40 Th          --  137.44 Gh        --  41.23 Gh         --  22.91 Gh       \n",
      "053  --  9.01 Ph          --  5.86 Th          --  157.07 Gh        --  45.81 Gh         --  24.99 Gh       \n",
      "054  --  18.01 Ph         --  8.80 Th          --  183.25 Gh        --  51.54 Gh         --  27.49 Gh       \n",
      "055  --  36.03 Ph         --  11.73 Th         --  219.90 Gh        --  58.90 Gh         --  30.54 Gh       \n",
      "056  --  72.06 Ph         --  17.59 Th         --  274.87 Gh        --  68.72 Gh         --  34.36 Gh       \n",
      "057  --  144.11 Ph        --  23.46 Th         --  314.14 Gh        --  74.97 Gh         --  36.65 Gh       \n",
      "058  --  288.23 Ph        --  35.18 Th         --  366.50 Gh        --  82.46 Gh         --  39.27 Gh       \n",
      "059  --  576.45 Ph        --  46.91 Th         --  439.80 Gh        --  91.62 Gh         --  42.29 Gh       \n",
      "060  --  1.15 Eh          --  70.37 Th         --  549.75 Gh        --  103.08 Gh        --  45.81 Gh       \n",
      "061  --  2.31 Eh          --  93.82 Th         --  628.28 Gh        --  117.80 Gh        --  49.98 Gh       \n",
      "062  --  4.61 Eh          --  140.74 Th        --  733.00 Gh        --  137.44 Gh        --  54.97 Gh       \n",
      "063  --  9.22 Eh          --  187.65 Th        --  879.60 Gh        --  149.93 Gh        --  61.08 Gh       \n"
     ]
    },
    {
     "data": {
      "image/png": "[encoded data removed]",
      "text/plain": [
       "<Figure size 1152x720 with 1 Axes>"
      ]
     },
     "metadata": {
      "needs_background": "light"
     },
     "output_type": "display_data"
    }
   ],
   "source": [
    "diff_list = list(range(28, 64))\n",
    "\n",
    "plt.figure(figsize=(16, 10))\n",
    "plt.yscale(\"log\")\n",
    "\n",
    "hash_list = plot_new_diff(diff_list, n_divided=1)\n",
    "new_hash_list_2 = plot_new_diff(diff_list, n_divided=2)\n",
    "new_hash_list_4 = plot_new_diff(diff_list, n_divided=4)\n",
    "new_hash_list_6 = plot_new_diff(diff_list, n_divided=6)\n",
    "new_hash_list_8 = plot_new_diff(diff_list, n_divided=8)\n",
    "\n",
    "\n",
    "print(f\"Level\", \n",
    "      \" \", f\"{'Current':15s}\", \n",
    "      \"    \",  f\"{'1/2':15s}\",\n",
    "      \"    \",  f\"{'1/4':15s}\",\n",
    "      \"    \",  f\"{'1/6':15s}\",\n",
    "      \"    \",  f\"{'1/8':15s}\",\n",
    "     )\n",
    "    \n",
    "for diff, hashpower, hashpower2, hashpower4, hashpower6, hashpower8 in zip(diff_list, \n",
    "                                                               hash_list, new_hash_list_2,\n",
    "                                                               new_hash_list_4, new_hash_list_6, \n",
    "                                                               new_hash_list_8):\n",
    "    print(f\"{diff:03}\", \n",
    "          \" -- \", f\"{convert_hashrate(hashpower):15s}\", \n",
    "          \" -- \",  f\"{convert_hashrate(hashpower2):15s}\",\n",
    "          \" -- \",  f\"{convert_hashrate(hashpower4):15s}\",\n",
    "          \" -- \",  f\"{convert_hashrate(hashpower6):15s}\",\n",
    "          \" -- \",  f\"{convert_hashrate(hashpower8):15s}\",\n",
    "         )\n",
    "    \n",
    "    "
   ]
  },
  {
   "cell_type": "code",
   "execution_count": 114,
   "metadata": {
    "scrolled": false
   },
   "outputs": [
    {
     "name": "stdout",
     "output_type": "stream",
     "text": [
      "Level      1/2                  1/4                  1/6                  1/8            \n",
      "028  --  268.43 Mh        --  268.43 Mh        --  268.43 Mh        --  268.43 Mh      \n",
      "029  --  536.86 Mh        --  536.86 Mh        --  536.86 Mh        --  536.86 Mh      \n",
      "030  --  1.07 Gh          --  1.07 Gh          --  1.07 Gh          --  1.07 Gh        \n",
      "031  --  2.15 Gh          --  2.15 Gh          --  2.15 Gh          --  2.15 Gh        \n",
      "032  --  4.29 Gh          --  4.29 Gh          --  4.29 Gh          --  4.29 Gh        \n",
      "033  --  5.73 Gh          --  4.91 Gh          --  4.69 Gh          --  4.58 Gh        \n",
      "034  --  8.59 Gh          --  5.73 Gh          --  5.15 Gh          --  4.91 Gh        \n",
      "035  --  11.45 Gh         --  6.87 Gh          --  5.73 Gh          --  5.29 Gh        \n",
      "036  --  17.18 Gh         --  8.59 Gh          --  6.44 Gh          --  5.73 Gh        \n",
      "037  --  22.91 Gh         --  9.82 Gh          --  7.36 Gh          --  6.25 Gh        \n",
      "038  --  34.36 Gh         --  11.45 Gh         --  8.59 Gh          --  6.87 Gh        \n",
      "039  --  45.81 Gh         --  13.74 Gh         --  9.37 Gh          --  7.64 Gh        \n",
      "040  --  68.72 Gh         --  17.18 Gh         --  10.31 Gh         --  8.59 Gh        \n",
      "041  --  91.62 Gh         --  19.63 Gh         --  11.45 Gh         --  9.16 Gh        \n",
      "042  --  137.44 Gh        --  22.91 Gh         --  12.88 Gh         --  9.82 Gh        \n",
      "043  --  183.25 Gh        --  27.49 Gh         --  14.73 Gh         --  10.57 Gh       \n",
      "044  --  274.87 Gh        --  34.36 Gh         --  17.18 Gh         --  11.45 Gh       \n",
      "045  --  366.50 Gh        --  39.27 Gh         --  18.74 Gh         --  12.49 Gh       \n",
      "046  --  549.75 Gh        --  45.81 Gh         --  20.62 Gh         --  13.74 Gh       \n",
      "047  --  733.00 Gh        --  54.97 Gh         --  22.91 Gh         --  15.27 Gh       \n",
      "048  --  1.10 Th          --  68.72 Gh         --  25.77 Gh         --  17.18 Gh       \n",
      "049  --  1.47 Th          --  78.54 Gh         --  29.45 Gh         --  18.32 Gh       \n",
      "050  --  2.20 Th          --  91.62 Gh         --  34.36 Gh         --  19.63 Gh       \n",
      "051  --  2.93 Th          --  109.95 Gh        --  37.48 Gh         --  21.14 Gh       \n",
      "052  --  4.40 Th          --  137.44 Gh        --  41.23 Gh         --  22.91 Gh       \n",
      "053  --  5.86 Th          --  157.07 Gh        --  45.81 Gh         --  24.99 Gh       \n",
      "054  --  8.80 Th          --  183.25 Gh        --  51.54 Gh         --  27.49 Gh       \n",
      "055  --  11.73 Th         --  219.90 Gh        --  58.90 Gh         --  30.54 Gh       \n",
      "056  --  17.59 Th         --  274.87 Gh        --  68.72 Gh         --  34.36 Gh       \n",
      "057  --  23.46 Th         --  314.14 Gh        --  74.97 Gh         --  36.65 Gh       \n",
      "058  --  35.18 Th         --  366.50 Gh        --  82.46 Gh         --  39.27 Gh       \n",
      "059  --  46.91 Th         --  439.80 Gh        --  91.62 Gh         --  42.29 Gh       \n",
      "060  --  70.37 Th         --  549.75 Gh        --  103.08 Gh        --  45.81 Gh       \n",
      "061  --  93.82 Th         --  628.28 Gh        --  117.80 Gh        --  49.98 Gh       \n",
      "062  --  140.74 Th        --  733.00 Gh        --  137.44 Gh        --  54.97 Gh       \n",
      "063  --  187.65 Th        --  879.60 Gh        --  149.93 Gh        --  61.08 Gh       \n"
     ]
    },
    {
     "data": {
      "image/png": "[encoded data removed]",
      "text/plain": [
       "<Figure size 1152x720 with 1 Axes>"
      ]
     },
     "metadata": {
      "needs_background": "light"
     },
     "output_type": "display_data"
    }
   ],
   "source": [
    "diff_list = list(range(28, 64))\n",
    "\n",
    "plt.figure(figsize=(16, 10))\n",
    "plt.yscale(\"log\")\n",
    "\n",
    "new_hash_list_2 = plot_new_diff(diff_list, n_divided=2)\n",
    "new_hash_list_4 = plot_new_diff(diff_list, n_divided=4)\n",
    "new_hash_list_6 = plot_new_diff(diff_list, n_divided=6)\n",
    "new_hash_list_8 = plot_new_diff(diff_list, n_divided=8)\n",
    "\n",
    "\n",
    "print(f\"Level\", \n",
    "      \"    \",  f\"{'1/2':15s}\",\n",
    "      \"    \",  f\"{'1/4':15s}\",\n",
    "      \"    \",  f\"{'1/6':15s}\",\n",
    "      \"    \",  f\"{'1/8':15s}\",\n",
    "     )\n",
    "    \n",
    "for diff, hashpower2, hashpower4, hashpower6, hashpower8 in zip(diff_list, \n",
    "                                                               new_hash_list_2,\n",
    "                                                               new_hash_list_4, new_hash_list_6, \n",
    "                                                               new_hash_list_8):\n",
    "    print(f\"{diff:03}\", \n",
    "          \" -- \",  f\"{convert_hashrate(hashpower2):15s}\",\n",
    "          \" -- \",  f\"{convert_hashrate(hashpower4):15s}\",\n",
    "          \" -- \",  f\"{convert_hashrate(hashpower6):15s}\",\n",
    "          \" -- \",  f\"{convert_hashrate(hashpower8):15s}\",\n",
    "         )\n",
    "    \n",
    "    "
   ]
  },
  {
   "cell_type": "code",
   "execution_count": null,
   "metadata": {},
   "outputs": [],
   "source": []
  },
  {
   "cell_type": "code",
   "execution_count": null,
   "metadata": {},
   "outputs": [],
   "source": []
  },
  {
   "cell_type": "code",
   "execution_count": null,
   "metadata": {},
   "outputs": [],
   "source": []
  }
 ],
 "metadata": {
  "kernelspec": {
   "display_name": "Python 3",
   "language": "python",
   "name": "python3"
  },
  "language_info": {
   "codemirror_mode": {
    "name": "ipython",
    "version": 3
   },
   "file_extension": ".py",
   "mimetype": "text/x-python",
   "name": "python",
   "nbconvert_exporter": "python",
   "pygments_lexer": "ipython3",
   "version": "3.6.7"
  }
 },
 "nbformat": 4,
 "nbformat_minor": 2
}
